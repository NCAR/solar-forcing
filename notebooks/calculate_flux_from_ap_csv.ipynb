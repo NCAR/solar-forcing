{
 "cells": [
  {
   "cell_type": "markdown",
   "id": "8840a483-3223-4fe6-970a-9de2a313fbe3",
   "metadata": {},
   "source": [
    "# Calculate VDK Flux using a pre-defined L-shell\n",
    "\n",
    "## Imports"
   ]
  },
  {
   "cell_type": "code",
   "execution_count": 2,
   "id": "ab298645-4732-49bf-84ad-8fce50f6437f",
   "metadata": {},
   "outputs": [],
   "source": [
    "import matplotlib.pyplot as plt\n",
    "import numpy as np\n",
    "import pandas as pd\n",
    "from numba import jit\n",
    "import xarray as xr"
   ]
  },
  {
   "cell_type": "markdown",
   "id": "373a732b-cbf3-4e82-9f38-00827076f55e",
   "metadata": {},
   "source": [
    "## Define a few functions to help\n",
    "The main two functions include `gen_energy_grid` which generates an energy grid for us to use, as well as `vdk2016` which is explained in `apeep.ipynb`"
   ]
  },
  {
   "cell_type": "code",
   "execution_count": 3,
   "id": "aeb0f53c-e407-44da-bbbd-a1456cbaa5d4",
   "metadata": {},
   "outputs": [],
   "source": [
    "# Generate a grid of energies for the flux spectrum\n",
    "# The energy range of the spectrum was set at 30–1000 keV, \n",
    "# with nbins of logarithmically spaced grid points.\n",
    "\n",
    "@jit(nopython=True)\n",
    "def gen_energy_grid(nbins):\n",
    "\n",
    "    e1 = np.log10(30.)\n",
    "    e2 = np.log10(1000.)\n",
    "    e = 10**(e1 + (e2-e1)*np.arange(nbins)/(nbins-1))\n",
    "    \n",
    "    return e"
   ]
  },
  {
   "cell_type": "code",
   "execution_count": 4,
   "id": "cfa309e9-39dc-4578-bd85-e318882788ed",
   "metadata": {},
   "outputs": [],
   "source": [
    "@jit(nopython=True)\n",
    "def vdk2016(e, l, Ap):\n",
    "\n",
    "    lpp = -0.7430*np.log(Ap) + 6.5257\n",
    "    Spp = l - lpp\n",
    "\n",
    "    # vdK2016 eqn.(8)\n",
    "\n",
    "    A = 8.2091*Ap**0.16255\n",
    "    b = 1.3754*Ap**0.33042\n",
    "    c = 0.13334*Ap**0.42616\n",
    "    s = 2.2833*Ap**-0.22990\n",
    "    d = 2.7563e-4*Ap**2.6116\n",
    "\n",
    "    # integral flux >30 keV (F30) electrons / (cm2 sr s)\n",
    "    F30 = np.exp(A) / (np.exp(-b*(Spp-s)) + np.exp(c*(Spp-s)) + d)\n",
    "\n",
    "    # vdK2016 eqn.(9)\n",
    "\n",
    "    E = 3.3777*Ap**-1.7038 + 0.15\n",
    "    bk = 3.7632*Ap**-0.16034\n",
    "    sk = 12.184*Ap**-0.30111\n",
    "\n",
    "    k = -1.0 / (E*np.exp(-bk*Spp) + 0.30450*np.cosh(0.20098*(Spp-sk))) - 1\n",
    "    \n",
    "    # solve eqn 3 for C\n",
    "    # C is an offset, and k is the spectral gradient\n",
    "    x=k+1\n",
    "    c = F30*x/(1e3**x-30.**x)\n",
    "    \n",
    "    # calcualte the spectral density of the flux S(E) = CE^k\n",
    "    # in electrons / (cm2 sr s keV)\n",
    "    flux_spectral_density = e**k*c\n",
    "    \n",
    "    return flux_spectral_density"
   ]
  },
  {
   "cell_type": "markdown",
   "id": "a3fe67b4-60c9-4e42-96da-95f5daf75316",
   "metadata": {},
   "source": [
    "## Remotely pull in the data, and read it in using `pandas`"
   ]
  },
  {
   "cell_type": "code",
   "execution_count": 5,
   "id": "b1222bf4-6089-4724-a514-189fe25d0af0",
   "metadata": {},
   "outputs": [],
   "source": [
    "import urllib \n",
    "\n",
    "file, message = urllib.request.urlretrieve('ftp://ftp.gfz-potsdam.de/pub/home/obs/Kp_ap_Ap_SN_F107/Kp_ap_Ap_SN_F107_since_1932.txt', '../data/Kp_ap_Ap_SN_F107_since_1932.txt')"
   ]
  },
  {
   "cell_type": "code",
   "execution_count": 6,
   "id": "7d0c2854-e37d-4354-b0b4-74dc2c04229f",
   "metadata": {},
   "outputs": [],
   "source": [
    "df = pd.read_csv(file, skiprows=39, header=0, delim_whitespace=True)\n",
    "cols=[\"#YYY\",\"MM\",\"DD\"]\n",
    "df['date'] = df[cols].apply(lambda x: '-'.join(x.values.astype(str)), axis=\"columns\")\n",
    "df.index = pd.to_datetime(df.date)\n",
    "ap_df = df[['Ap']]"
   ]
  },
  {
   "cell_type": "code",
   "execution_count": 8,
   "id": "4d491c67-187d-4fc3-9920-558736ddd1db",
   "metadata": {},
   "outputs": [],
   "source": [
    "ap_vals = ap_df.Ap.values\n",
    "times = ap_df.index.values"
   ]
  },
  {
   "cell_type": "markdown",
   "id": "137f13e9-2c68-4437-9ecf-2b1450a087d9",
   "metadata": {},
   "source": [
    "### Generate the energy grid and set of lshell values"
   ]
  },
  {
   "cell_type": "code",
   "execution_count": 46,
   "id": "3abd22b4-4a50-46cd-b5c3-324c38f609c9",
   "metadata": {},
   "outputs": [],
   "source": [
    "nbins = 128 # sets resolution of the grid\n",
    "e = gen_energy_grid(nbins)\n",
    "\n",
    "l_shell = np.arange(2, 10.5, 0.5)"
   ]
  },
  {
   "cell_type": "code",
   "execution_count": 47,
   "id": "1061491e-b21c-4a0f-badb-03cf02b91f9b",
   "metadata": {},
   "outputs": [],
   "source": [
    "@jit(nopython=True)\n",
    "def lshell_to_glat(lshell):\n",
    "    return np.arccos((2.02/lshell) - 1) * (90./np.pi)"
   ]
  },
  {
   "cell_type": "code",
   "execution_count": 10,
   "id": "dd6411b1-1a09-4e9f-8700-1beaa41c0d5d",
   "metadata": {},
   "outputs": [],
   "source": [
    "@jit(nopython=True)\n",
    "def calculate_flux(lshell, aps, e=e):\n",
    "    flux = np.empty(shape=(len(lshell),len(aps), len(e)))\n",
    "    for i in range(len(lshell)):\n",
    "        for j in range(len(aps)):\n",
    "            # calculate the top of the atmosphere energetic electron energy spectrum\n",
    "            \n",
    "            if aps[j] != 0:\n",
    "                flux_sd = vdk2016(e, lshell[i], aps[j])\n",
    "                \n",
    "            else:\n",
    "                flux_sd = np.nan * e\n",
    "            \n",
    "            # van de Kamp is per steradian (electrons / (cm2 sr s keV))\n",
    "            # assume flux is isotropic inside a nominal bounce loss cone (BLC) angle\n",
    "            # of 80˚. The area of the BLC in sr is 2pi(1-cosd(66.3))\n",
    "            flux[i, j, :] = 2.*np.pi*(1-np.cos(np.radians(80))) * flux_sd\n",
    "            \n",
    "    return flux"
   ]
  },
  {
   "cell_type": "code",
   "execution_count": 11,
   "id": "c5ab40a4-2201-4004-9703-c01fe15a5ab7",
   "metadata": {},
   "outputs": [],
   "source": [
    "vdk_flux = calculate_flux(l_shell, ap_vals)"
   ]
  },
  {
   "cell_type": "markdown",
   "id": "922350ce-9720-4bcd-ad9d-a79c9269d1f8",
   "metadata": {},
   "source": [
    "## Create a dataset from the output"
   ]
  },
  {
   "cell_type": "code",
   "execution_count": 49,
   "id": "c2f29872-bc9e-4035-80b9-29e1b4c2e14e",
   "metadata": {},
   "outputs": [],
   "source": [
    "ds = xr.Dataset(\n",
    "    data_vars=dict(\n",
    "        vdk_energy_spectrum=([\"lshell\", \"time\", \"e\"], vdk_flux),\n",
    "        lshell=l_shell,\n",
    "        glat = lshell_to_glat(l_shell),\n",
    "        time=times,\n",
    "        e=e,\n",
    "    ),\n",
    "    attrs=dict(description=\"Flux calculation\"),\n",
    ")"
   ]
  },
  {
   "cell_type": "code",
   "execution_count": 52,
   "id": "67d201b3-d5df-4b39-bb13-bc177a8bf4f5",
   "metadata": {},
   "outputs": [],
   "source": [
    "ds.to_netcdf('../data/vdk_flux_calc_test.nc')"
   ]
  },
  {
   "cell_type": "code",
   "execution_count": null,
   "id": "3c107b59-b26b-4f04-9c1b-dc7e880db22a",
   "metadata": {},
   "outputs": [],
   "source": []
  }
 ],
 "metadata": {
  "kernelspec": {
   "display_name": "Python 3",
   "language": "python",
   "name": "python3"
  },
  "language_info": {
   "codemirror_mode": {
    "name": "ipython",
    "version": 3
   },
   "file_extension": ".py",
   "mimetype": "text/x-python",
   "name": "python",
   "nbconvert_exporter": "python",
   "pygments_lexer": "ipython3",
   "version": "3.9.4"
  }
 },
 "nbformat": 4,
 "nbformat_minor": 5
}

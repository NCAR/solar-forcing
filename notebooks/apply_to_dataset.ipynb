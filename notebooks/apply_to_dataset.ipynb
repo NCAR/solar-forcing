{
 "cells": [
  {
   "cell_type": "markdown",
   "id": "31dda51a-a602-42f3-870d-88d37e1f42c9",
   "metadata": {},
   "source": [
    "# Applying the Apeep calculations to an `xarray` dataset\n",
    "\n",
    "Throughout this notebook, you will see the `@jit(nopython=True)` lines which are wrappers which translate Python code to optimized code at run time - this helps improve the performance\n",
    "\n",
    "## Imports"
   ]
  },
  {
   "cell_type": "code",
   "execution_count": 1,
   "id": "f2123181-d5ee-4f9d-bbad-b70d609adb02",
   "metadata": {},
   "outputs": [],
   "source": [
    "import matplotlib.pyplot as plt\n",
    "import numpy as np\n",
    "import pandas as pd\n",
    "import xarray as xr\n",
    "from scipy import integrate\n",
    "from numba import jit"
   ]
  },
  {
   "cell_type": "markdown",
   "id": "c3936795-2188-450c-a04f-4c960877be87",
   "metadata": {},
   "source": [
    "### Calculating an energy spectrum for a specific l-shell and AP calculation\n",
    "A routine (vdk2016) to return an energy spectrum for a specific l-shell and Ap\n",
    "Calcs based on: \n",
    "\n",
    "***van de Kamp, M., Seppälä, A., Clilverd, M. A., Rodger, C. J., Verronen, P. T., and Whittaker, I. C. (2016), A model providing long‐term datasets of energetic electron precipitation during geomagnetic storms, J. Geophys. Res. Atmos., 121, 12,520– 12,540, [doi:10.1002/2015JD024212](https://agupubs.onlinelibrary.wiley.com/doi/full/10.1002/2015JD024212).***"
   ]
  },
  {
   "cell_type": "code",
   "execution_count": 2,
   "id": "2d642540-3c65-4211-b79f-b9d28cca31e9",
   "metadata": {},
   "outputs": [],
   "source": [
    "@jit(nopython=True)\n",
    "def vdk2016(e, l, Ap):\n",
    "\n",
    "    lpp = -0.7430*np.log(Ap) + 6.5257\n",
    "    Spp = l - lpp\n",
    "\n",
    "    # vdK2016 eqn.(8)\n",
    "\n",
    "    A = 8.2091*Ap**0.16255\n",
    "    b = 1.3754*Ap**0.33042\n",
    "    c = 0.13334*Ap**0.42616\n",
    "    s = 2.2833*Ap**-0.22990\n",
    "    d = 2.7563e-4*Ap**2.6116\n",
    "\n",
    "    # integral flux >30 keV (F30) electrons / (cm2 sr s)\n",
    "    F30 = np.exp(A) / (np.exp(-b*(Spp-s)) + np.exp(c*(Spp-s)) + d)\n",
    "\n",
    "    # vdK2016 eqn.(9)\n",
    "\n",
    "    E = 3.3777*Ap**-1.7038 + 0.15\n",
    "    bk = 3.7632*Ap**-0.16034\n",
    "    sk = 12.184*Ap**-0.30111\n",
    "\n",
    "    k = -1.0 / (E*np.exp(-bk*Spp) + 0.30450*np.cosh(0.20098*(Spp-sk))) - 1\n",
    "    \n",
    "    # solve eqn 3 for C\n",
    "    # C is an offset, and k is the spectral gradient\n",
    "    x=k+1\n",
    "    c = F30*x/(1e3**x-30.**x)\n",
    "    \n",
    "    # calcualte the spectral density of the flux S(E) = CE^k\n",
    "    # in electrons / (cm2 sr s keV)\n",
    "    flux_spectral_density = e**k*c\n",
    "    \n",
    "    return flux_spectral_density"
   ]
  },
  {
   "cell_type": "markdown",
   "id": "3cd06650-426e-44ec-a97f-f14dee6acd28",
   "metadata": {},
   "source": [
    "### Calculate how energy from top of atmosphere is deposited in rest of atmosphere\n",
    "\n",
    "The function takes the energy spectrum at the top of the atmosphere and \n",
    "calculates how that energy is deposited in the atmosphere using the parameterization\n",
    "described in [Fang et al., (2010)](https://opensky.ucar.edu/islandora/object/articles:10653)\n",
    "\n",
    "***Fang, X., C. E. Randall, D. Lummerzheim, W. Wang, G. Lu, S. C. Solomon, \n",
    "and R. A. Frahm (2010), Parameterization of monoenergetic electron impact\n",
    "ionization, Geophys. Res. Lett., 37, L22106, [doi:10.1029/2010GL045406.](https://agupubs.onlinelibrary.wiley.com/doi/10.1029/2010GL045406)***\n",
    "\n",
    "Application of the new parameterization requires the following steps:\n",
    "\n",
    "1. Calculate the Ci coefficients using equation (5) and Table 1.\n",
    "2. Calculate the y values throughout the atmosphere using equation (1).\n",
    "3. Calculate the normalized energy dissipation f values using equation (4).\n",
    "4. Obtain the altitude profile of qtot by substituting the f values into equation (3)."
   ]
  },
  {
   "cell_type": "code",
   "execution_count": 3,
   "id": "1a53bd5d-f0a9-4ecb-989f-05e32a2b3857",
   "metadata": {},
   "outputs": [],
   "source": [
    "@jit(nopython=True)\n",
    "def fang(y, Emono):\n",
    "# Input: \n",
    "# y - normalized atmospheric column mass as a function of vertical location (z)\n",
    "# Emono - is incident electron energy (keV)\n",
    "# Output:\n",
    "# f - quanity calculated by eqn. (4)\n",
    "\n",
    "    # Table 1.\n",
    "    p1 = np.array([(1.24616E+0,  1.45903E+0, -2.42269E-1,  5.95459E-2), \n",
    "                   (2.23976E+0, -4.22918E-7,  1.36458E-2,  2.53332E-3),\n",
    "                   (1.41754E+0,  1.44597E-1,  1.70433E-2,  6.39717E-4),\n",
    "                   (2.48775E-1, -1.50890E-1,  6.30894E-9,  1.23707E-3),\n",
    "                   (-4.65119E-1, -1.05081E-1, -8.95701E-2,  1.22450E-2),\n",
    "                   (3.86019E-1,  1.75430E-3, -7.42960E-4,  4.60881E-4),\n",
    "                   (-6.45454E-1,  8.49555E-4, -4.28581E-2, -2.99302E-3),\n",
    "                   (9.48930E-1,  1.97385E-1, -2.50660E-3, -2.06938E-3)])\n",
    "\n",
    "    # terms in eq. (5)\n",
    "    lne = np.log(Emono)\n",
    "    lne2 = lne*lne\n",
    "    lne3 = lne*lne2\n",
    "\n",
    "    # step 2. calculate the C array in (5)\n",
    "    c = np.empty((8))\n",
    "    for i in range(8):\n",
    "        c[i] = np.exp(p1[i,0] + p1[i,1]*lne + p1[i,2]*lne2 + p1[i,3]*lne3)\n",
    "        \n",
    "    # eq. (4) - Normalized energy deposition\n",
    "    f = c[0]*y**c[1]*np.exp(-c[2]*y**c[3]) + c[4]*y**c[5]*np.exp(-c[6]*y**c[7])\n",
    "    \n",
    "    return f"
   ]
  },
  {
   "cell_type": "code",
   "execution_count": 4,
   "id": "78524703-4ad7-400a-aee8-0b4c99a710f1",
   "metadata": {},
   "outputs": [],
   "source": [
    "@jit(nopython=True)\n",
    "def iprmono(e, flux, rho, H):\n",
    "    # assign constants\n",
    "    epsilon = 0.035 # keV \n",
    "\n",
    "    ipr = np.empty((e.size,rho.size))\n",
    "\n",
    "    for i,energy in enumerate(e): # loop over energy index\n",
    "\n",
    "        # step 1. (eq. 1) \n",
    "        y = (2/energy)*(rho*H/6.0e-6)**0.7\n",
    "        f = np.empty(y.size)\n",
    "\n",
    "        for j,yy in enumerate(y):\n",
    "            f[j] = fang(yy, energy)\n",
    "\n",
    "        # calculate ipr (qtot) using eq. (3) for a specified flux at ea. energy\n",
    "        Qmono = flux[i]*energy # (keV cm−2 s−1)\n",
    "        ipr[i,:] = f*Qmono/(epsilon*H)\n",
    "\n",
    "    return ipr"
   ]
  },
  {
   "cell_type": "markdown",
   "id": "54953f64-c6f1-40ea-83c4-81054a303544",
   "metadata": {},
   "source": [
    "### Generate an energy grid"
   ]
  },
  {
   "cell_type": "code",
   "execution_count": 5,
   "id": "7e235fd3-efad-4319-b079-178985f1ed85",
   "metadata": {},
   "outputs": [],
   "source": [
    "# Generate a grid of energies for the flux spectrum\n",
    "# The energy range of the spectrum was set at 30–1000 keV, \n",
    "# with nbins of logarithmically spaced grid points.\n",
    "\n",
    "@jit(nopython=True)\n",
    "def gen_energy_grid(nbins):\n",
    "\n",
    "    e1 = np.log10(30.)\n",
    "    e2 = np.log10(1000.)\n",
    "    e = 10**(e1 + (e2-e1)*np.arange(nbins)/(nbins-1))\n",
    "    \n",
    "    return e"
   ]
  },
  {
   "cell_type": "code",
   "execution_count": 6,
   "id": "76137b90-820b-4da6-8d03-910f94157e4d",
   "metadata": {},
   "outputs": [],
   "source": [
    "nbins = 128 # sets resolution of the grid\n",
    "e = gen_energy_grid(nbins)"
   ]
  },
  {
   "cell_type": "markdown",
   "id": "602f6c58-9a0d-48a1-bbf9-280760328f88",
   "metadata": {},
   "source": [
    "### Read in standard atmosphere data\n",
    "Read in the Atmospheric density (rho) and temperature\n",
    "return rho and the scale height (H) as a function of altitude "
   ]
  },
  {
   "cell_type": "code",
   "execution_count": 7,
   "id": "994f1bc9-0858-4009-98e5-ec991f8caa68",
   "metadata": {},
   "outputs": [],
   "source": [
    "def read_atm():\n",
    "    \n",
    "    # assign constants\n",
    "    kboltz = 1.380649e-23 # (J/K)\n",
    "    amu = 1.6605e-27 # (kg)    \n",
    "    grav = 9.8 # m/s2\n",
    "\n",
    "    # read msis atmosphere\n",
    "    x = pd.read_table('../data/msis2.0_atm_out.txt', header=0, sep='\\s+')\n",
    "\n",
    "    t = x['T']\n",
    "    rho = x['rho']\n",
    "    alt = x['alt']\n",
    "    \n",
    "    # calculate H, the scale height (cm)\n",
    "    H = kboltz*t/(28.6*amu*grav)*1e2 \n",
    "\n",
    "    return H, rho, alt"
   ]
  },
  {
   "cell_type": "code",
   "execution_count": 8,
   "id": "8031c70f-2a9e-4531-8dfb-b0530f969d6f",
   "metadata": {},
   "outputs": [],
   "source": [
    "H, rho, alt = read_atm()"
   ]
  },
  {
   "cell_type": "markdown",
   "id": "81b2c048-9868-4495-885c-4a3d3ebd2bf2",
   "metadata": {},
   "source": [
    "## Put it all together - create a function that processes a single ap, and single glat value\n",
    "Here, we use numba to improve the speed, looping through a list of glats and aps"
   ]
  },
  {
   "cell_type": "code",
   "execution_count": 9,
   "id": "8fb28afe-d0ec-4c91-89a6-e419033c85f4",
   "metadata": {},
   "outputs": [],
   "source": [
    "@jit(nopython=True)\n",
    "def calculate_ipr(glats, aps, alt=alt.values, rho=rho.values, H=H.values, e=e):\n",
    "    ipr_vals = np.empty(shape=(len(aps),len(glats), len(e), len(alt)))\n",
    "    for i in range(len(aps)):\n",
    "        for j in range(len(glats)):\n",
    "            l = 1.01 / np.cos(glats[j]*np.pi/180.)**2\n",
    "            # calculate the top of the atmosphere energetic electron energy spectrum\n",
    "            flux = vdk2016(e, l, aps[i])\n",
    "\n",
    "            # calculate the IPR as a function f height and energy\n",
    "            ipr = iprmono(e, flux, rho, H)\n",
    "            \n",
    "            # Add the results to the ipr array\n",
    "            ipr_vals[i, j, :, :] = ipr\n",
    "            \n",
    "    return ipr_vals"
   ]
  },
  {
   "cell_type": "markdown",
   "id": "a53c0366-815e-4415-9c57-5579d0516b23",
   "metadata": {},
   "source": [
    "We need to now create a function to interface with `Xarray`, and apply the `integrate.simpson` function since that is not easily read in by numba"
   ]
  },
  {
   "cell_type": "code",
   "execution_count": 10,
   "id": "f8640686-1d4a-4d98-875f-1a46c243658a",
   "metadata": {
    "tags": []
   },
   "outputs": [],
   "source": [
    "def calculate_iprm(ds, alt=alt.values, rho=rho.values, H=H.values, e=e):\n",
    "    \"\"\"\n",
    "    Calculates iprm from a dataset\n",
    "    \"\"\"\n",
    "    \n",
    "    # Read in the glats and aps\n",
    "    glats = ds.glat.values\n",
    "    aps = ds.ap.values\n",
    "    times = ds.time.values\n",
    "    \n",
    "    ipr = calculate_ipr(glats, aps, alt=alt, rho=rho, H=H, e=e)\n",
    "    \n",
    "    # calculate ipr total by integrating across the energy spectrum\n",
    "    ipr_tot = integrate.simps(ipr, e, axis=2)\n",
    "    \n",
    "    # calculate iprm\n",
    "    iprm = ipr_tot/rho\n",
    "    \n",
    "    # Calculate pressure levels\n",
    "    plevs = 1013.*np.exp(-alt/6.8)\n",
    "    \n",
    "    # Build a dataset for the output\n",
    "    out_ds = xr.Dataset(data_vars=dict(iprm=(['time', 'glat', 'pressure'], iprm),\n",
    "                                       ap = (['time'], aps),\n",
    "                                       glat = glats,\n",
    "                                       pressure = plevs,\n",
    "                                       time=times))\n",
    "    out_ds = out_ds.transpose(\"time\", \"pressure\", \"glat\")\n",
    "    \n",
    "    return out_ds.sortby('pressure')"
   ]
  },
  {
   "cell_type": "markdown",
   "id": "742334ae-74b8-4418-bcfe-c4f8ad22f82b",
   "metadata": {},
   "source": [
    "## Try this on the dataset\n",
    "\n",
    "### Read in the dataset"
   ]
  },
  {
   "cell_type": "code",
   "execution_count": 11,
   "id": "c37b9264-476d-4776-997d-a1d367c8aeec",
   "metadata": {},
   "outputs": [],
   "source": [
    "ds = xr.open_dataset('../../../../solar_weather/solarforcing-REFD1-day_input4MIPs_solar_CCMI-2022_SOLARIS-HEPPA-3-2_gn_19500101-20191231.nc')"
   ]
  },
  {
   "cell_type": "markdown",
   "id": "ebd75432-a28b-4061-910d-01a0f8a110b7",
   "metadata": {},
   "source": [
    "### Subset a time slice of the data, and apply the function"
   ]
  },
  {
   "cell_type": "code",
   "execution_count": 12,
   "id": "a5c9c34e-7acb-4929-8741-e8573572cc88",
   "metadata": {},
   "outputs": [
    {
     "name": "stdout",
     "output_type": "stream",
     "text": [
      "CPU times: user 4.61 s, sys: 50.8 ms, total: 4.66 s\n",
      "Wall time: 4.65 s\n"
     ]
    }
   ],
   "source": [
    "%%time\n",
    "ds_sub = ds.isel(time=range(10))\n",
    "ds_calc = calculate_iprm(ds_sub)"
   ]
  },
  {
   "cell_type": "markdown",
   "id": "461ae4f7-ec29-4b12-be5c-8eb4b6f67598",
   "metadata": {},
   "source": [
    "### Plot the results!\n",
    "\n",
    "#### Derived quantity using the method described above"
   ]
  },
  {
   "cell_type": "code",
   "execution_count": 13,
   "id": "ec3e57c0-4027-4735-90c4-3442c0392061",
   "metadata": {},
   "outputs": [
    {
     "data": {
      "image/png": "[encoded data removed]",
      "text/plain": [
       "<Figure size 864x576 with 2 Axes>"
      ]
     },
     "metadata": {
      "needs_background": "light"
     },
     "output_type": "display_data"
    }
   ],
   "source": [
    "plt.figure(figsize=(12,8))\n",
    "\n",
    "ax = plt.gca()\n",
    "ds_calc.iprm.isel(time=5).plot(ax=ax)\n",
    "ax.set_ylim([1,1e-6])\n",
    "ax.set_yscale('log')\n",
    "ax.set_ylabel('Pressure (hPa)');"
   ]
  },
  {
   "cell_type": "markdown",
   "id": "f82f40a4-04e6-4abc-8601-ee85ebbd8ed0",
   "metadata": {},
   "source": [
    "#### Original dataset"
   ]
  },
  {
   "cell_type": "code",
   "execution_count": 14,
   "id": "9f3eaba9-0bdf-4b4f-9737-3daa0f3d0f52",
   "metadata": {},
   "outputs": [
    {
     "data": {
      "image/png": "[encoded data removed]",
      "text/plain": [
       "<Figure size 864x576 with 2 Axes>"
      ]
     },
     "metadata": {
      "needs_background": "light"
     },
     "output_type": "display_data"
    }
   ],
   "source": [
    "plt.figure(figsize=(12,8))\n",
    "\n",
    "ax = plt.gca()\n",
    "\n",
    "ds.iprm.isel(time=5).plot(ax=ax)\n",
    "\n",
    "\n",
    "ax.set_ylim([1,1e-6])\n",
    "ax.set_yscale('log')\n",
    "ax.set_ylabel('Pressure (hPa)');"
   ]
  }
 ],
 "metadata": {
  "kernelspec": {
   "display_name": "Python 3",
   "language": "python",
   "name": "python3"
  },
  "language_info": {
   "codemirror_mode": {
    "name": "ipython",
    "version": 3
   },
   "file_extension": ".py",
   "mimetype": "text/x-python",
   "name": "python",
   "nbconvert_exporter": "python",
   "pygments_lexer": "ipython3",
   "version": "3.9.4"
  }
 },
 "nbformat": 4,
 "nbformat_minor": 5
}
